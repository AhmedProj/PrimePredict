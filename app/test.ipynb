{
 "cells": [
  {
   "cell_type": "code",
   "execution_count": 37,
   "metadata": {},
   "outputs": [],
   "source": [
    "import sys\n",
    "import os\n",
    "from pathlib import Path\n",
    "import random\n",
    "import numpy as np\n",
    "from sklearn.base import BaseEstimator, TransformerMixin\n",
    "from contextlib import asynccontextmanager\n",
    "from pydantic import BaseModel\n",
    "import pandas as pd\n",
    "import joblib\n",
    "from utils import get_model, ModelEnsemble"
   ]
  },
  {
   "cell_type": "code",
   "execution_count": 2,
   "metadata": {},
   "outputs": [],
   "source": [
    "class ModelEnsemble(BaseEstimator, TransformerMixin):\n",
    "    \"\"\" Class to estimate the premium value for a given client.\n",
    "    It first predict the ocurrence of a insurance claims, then it proceed to calculate the premium.\n",
    "    This class is not trainable, it receives models that have been already trained.\n",
    "    \"\"\"\n",
    "    def __init__(self, model1, model2, prime_avg=86.76, n0=42294, n1=5751):\n",
    "        self.model1 = model1\n",
    "        self.model2 = model2\n",
    "        self.prime_avg = prime_avg\n",
    "        self.n0 = n0\n",
    "        self.n1 = n1\n",
    "    def fit(self, X, y=None):\n",
    "        return self\n",
    "\n",
    "    def transform(self, X):\n",
    "        \"\"\"Method to calculate the premium value for a given set of parameters X.\n",
    "        PARAMETERS\n",
    "        ----------\n",
    "        X: DataFrame\n",
    "           Dataframe containing the features\n",
    "        OUTPUT\n",
    "        ------\n",
    "        premium: float\n",
    "               premium value predicted\n",
    "        proba: list\n",
    "               probabilities of the possible outcomes               \n",
    "        \"\"\"\n",
    "        model1_output = self.model1.predict(X)\n",
    "        proba = self.model1.predict_proba(X)[0]\n",
    "        proba = [round(proba[0], 2), round(proba[1], 2)]\n",
    "        if model1_output == 0:\n",
    "            prime = self.prime_avg\n",
    "        else:\n",
    "            X[\"frequence_claims\"] = model1_output\n",
    "            prime = self.prime_avg + self.n1 * np.expm1(self.model2.predict(X)[0]) / self.n0\n",
    "        return round(prime, 2), proba"
   ]
  },
  {
   "cell_type": "code",
   "execution_count": 50,
   "metadata": {},
   "outputs": [],
   "source": [
    "path = Path(sys.path[0]).parent\n",
    "sys.path.insert(1, str(path))\n",
    "os.chdir(str(path) + '/src')\n",
    "model = joblib.load('ensemble_model.joblib')"
   ]
  },
  {
   "cell_type": "code",
   "execution_count": 68,
   "metadata": {},
   "outputs": [
    {
     "name": "stdout",
     "output_type": "stream",
     "text": [
      "{'prediction': 86.76, 'probability': [0.85, 0.15]}\n"
     ]
    }
   ],
   "source": [
    "df = pd.DataFrame.from_dict(\n",
    "    {   'Type':[\"D\"],\n",
    "        'Occupation':[\"Housewife\"],\n",
    "        'Age':[59],\n",
    "        'Group1':[12],\n",
    "        'Bonus':[-40],\n",
    "        'Poldur':[1],\n",
    "        'Value':[48940.0],\n",
    "        'Adind':[0],\n",
    "        'Density':[25],\n",
    "        'Exppdays':[1]\n",
    "    }\n",
    ")\n",
    "\n",
    "prediction, probabability = model.transform(df)\n",
    "p0, p1 = probabability[0], probabability[1]\n",
    "output = {\"prediction\":prediction, \"probability\":probabability}\n",
    "print(output)"
   ]
  },
  {
   "cell_type": "code",
   "execution_count": null,
   "metadata": {},
   "outputs": [],
   "source": []
  }
 ],
 "metadata": {
  "kernelspec": {
   "display_name": "base",
   "language": "python",
   "name": "python3"
  },
  "language_info": {
   "codemirror_mode": {
    "name": "ipython",
    "version": 3
   },
   "file_extension": ".py",
   "mimetype": "text/x-python",
   "name": "python",
   "nbconvert_exporter": "python",
   "pygments_lexer": "ipython3",
   "version": "3.12.2"
  }
 },
 "nbformat": 4,
 "nbformat_minor": 2
}
